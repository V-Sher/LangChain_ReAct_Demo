{
 "cells": [
  {
   "cell_type": "markdown",
   "metadata": {},
   "source": [
    "### Initialization"
   ]
  },
  {
   "cell_type": "code",
   "execution_count": 4,
   "metadata": {},
   "outputs": [],
   "source": [
    "import os\n",
    "from langchain.chat_models import AzureChatOpenAI\n",
    "from langchain.embeddings.openai import OpenAIEmbeddings\n",
    "from langchain.retrievers import ParentDocumentRetriever\n",
    "from langchain.text_splitter import RecursiveCharacterTextSplitter\n",
    "from langchain.vectorstores import Chroma\n",
    "from langchain.chains import RetrievalQA\n",
    "from langchain.storage._lc_store import create_kv_docstore\n",
    "from langchain.storage import LocalFileStore\n",
    "from langchain.agents import Tool\n",
    "from langchain.document_loaders import TextLoader\n",
    "from langchain.tools.retriever import create_retriever_tool\n",
    "from langchain.agents import AgentExecutor, create_react_agent\n",
    "from langchain import hub\n",
    "from langchain.pydantic_v1 import BaseModel, Field\n",
    "from langchain.agents import create_openai_tools_agent\n",
    "from langchain.prompts import ChatPromptTemplate, MessagesPlaceholder\n",
    "from langchain.pydantic_v1 import BaseModel, Field\n",
    "from langchain.agents import tool\n",
    "import numpy as np"
   ]
  },
  {
   "cell_type": "code",
   "execution_count": 3,
   "metadata": {},
   "outputs": [
    {
     "data": {
      "text/plain": [
       "'0.1.0'"
      ]
     },
     "execution_count": 3,
     "metadata": {},
     "output_type": "execute_result"
    }
   ],
   "source": [
    "import langchain\n",
    "\n",
    "langchain.__version__  # Should be 0.1.0 , latest version giving errors while using OAI tools agent"
   ]
  },
  {
   "cell_type": "code",
   "execution_count": 2,
   "metadata": {},
   "outputs": [
    {
     "data": {
      "text/plain": [
       "'0.28.1'"
      ]
     },
     "execution_count": 2,
     "metadata": {},
     "output_type": "execute_result"
    }
   ],
   "source": [
    "import openai\n",
    "\n",
    "openai.__version__"
   ]
  },
  {
   "cell_type": "markdown",
   "metadata": {},
   "source": [
    "### Setting up LLM"
   ]
  },
  {
   "cell_type": "code",
   "execution_count": 6,
   "metadata": {},
   "outputs": [],
   "source": [
    "OPENAI_API_KEY = os.getenv(\"OPENAI_API_KEY\")\n",
    "OPENAI_DEPLOYMENT_NAME = \"gpt4-turbo\"  # gpt-35-turbo-16k\"\n",
    "OPENAI_DEPLOYMENT_ENDPOINT = \"https://<???>.openai.azure.com/\"\n",
    "OPENAI_DEPLOYMENT_VERSION = \"2023-12-01-preview\"\n",
    "OPENAI_MODEL_NAME = \"gpt-4\"  # \"gpt-35-turbo-16k\"\n",
    "\n",
    "OPENAI_ADA_EMBEDDING_DEPLOYMENT_NAME = \"text-embedding-ada\"\n",
    "OPENAI_ADA_EMBEDDING_MODEL_NAME = \"text-embedding-ada-002\"\n",
    "\n",
    "llm = AzureChatOpenAI(\n",
    "    deployment_name=OPENAI_DEPLOYMENT_NAME,\n",
    "    model_name=OPENAI_MODEL_NAME,\n",
    "    openai_api_base=OPENAI_DEPLOYMENT_ENDPOINT,\n",
    "    openai_api_version=OPENAI_DEPLOYMENT_VERSION,\n",
    "    openai_api_key=OPENAI_API_KEY,\n",
    "    openai_api_type=\"azure\",\n",
    "    temperature=0.1,\n",
    ")\n",
    "\n",
    "embeddings = OpenAIEmbeddings(\n",
    "    deployment=OPENAI_ADA_EMBEDDING_DEPLOYMENT_NAME,\n",
    "    model=OPENAI_ADA_EMBEDDING_MODEL_NAME,\n",
    "    openai_api_base=OPENAI_DEPLOYMENT_ENDPOINT,\n",
    "    openai_api_type=\"azure\",\n",
    "    chunk_size=1,\n",
    "    openai_api_key=OPENAI_API_KEY,\n",
    "    openai_api_version=OPENAI_DEPLOYMENT_VERSION,\n",
    ")"
   ]
  },
  {
   "cell_type": "markdown",
   "metadata": {},
   "source": [
    "### Loading documents"
   ]
  },
  {
   "cell_type": "code",
   "execution_count": 7,
   "metadata": {},
   "outputs": [],
   "source": [
    "loader = TextLoader(\"../data/globalcorp_hr_policy.txt\")\n",
    "documents = loader.load()"
   ]
  },
  {
   "cell_type": "code",
   "execution_count": 8,
   "metadata": {},
   "outputs": [],
   "source": [
    "persist_directory = \"local_vectorstore\"\n",
    "local_store = \"local_docstore\"\n",
    "collection_name = \"hrpolicy\"\n",
    "PROJECT_ROOT = \"....\"  # insert your project root directory name here"
   ]
  },
  {
   "cell_type": "markdown",
   "metadata": {},
   "source": [
    "### Creating Retriever"
   ]
  },
  {
   "cell_type": "code",
   "execution_count": 9,
   "metadata": {},
   "outputs": [],
   "source": [
    "# This text splitter is used to create the child documents\n",
    "parent_splitter = RecursiveCharacterTextSplitter(chunk_size=1000, chunk_overlap=20)\n",
    "child_splitter = RecursiveCharacterTextSplitter(chunk_size=200, chunk_overlap=20)\n",
    "# The vectorstore to use to index the child chunks\n",
    "vectorstore = Chroma(\n",
    "    persist_directory=os.path.join(PROJECT_ROOT, \"data\", persist_directory),\n",
    "    collection_name=collection_name,\n",
    "    embedding_function=embeddings,\n",
    ")\n",
    "# The storage layer for the parent documents\n",
    "local_store = LocalFileStore(os.path.join(PROJECT_ROOT, \"data\", local_store))\n",
    "store = create_kv_docstore(local_store)\n",
    "retriever = ParentDocumentRetriever(\n",
    "    vectorstore=vectorstore,\n",
    "    docstore=store,\n",
    "    child_splitter=child_splitter,\n",
    "    parent_splitter=parent_splitter,\n",
    ")"
   ]
  },
  {
   "cell_type": "code",
   "execution_count": null,
   "metadata": {},
   "outputs": [],
   "source": [
    "# run only once\n",
    "# vectorstore.persist()\n",
    "# retriever.add_documents(documents, ids=None)"
   ]
  },
  {
   "cell_type": "markdown",
   "metadata": {},
   "source": [
    "### QnA System"
   ]
  },
  {
   "cell_type": "markdown",
   "metadata": {},
   "source": [
    "#### correct responses"
   ]
  },
  {
   "cell_type": "code",
   "execution_count": 10,
   "metadata": {},
   "outputs": [],
   "source": [
    "qa = RetrievalQA.from_chain_type(\n",
    "    llm=llm,\n",
    "    chain_type=\"stuff\",\n",
    "    retriever=retriever,\n",
    "    return_source_documents=True,\n",
    ")"
   ]
  },
  {
   "cell_type": "code",
   "execution_count": null,
   "metadata": {},
   "outputs": [],
   "source": [
    "response = qa({\"query\": \"What is the allocated budget for communication initiatives?\"})\n",
    "response"
   ]
  },
  {
   "cell_type": "code",
   "execution_count": null,
   "metadata": {},
   "outputs": [],
   "source": [
    "qa({\"query\": \"How many maternity leaves are offered?\"})"
   ]
  },
  {
   "cell_type": "code",
   "execution_count": null,
   "metadata": {},
   "outputs": [],
   "source": [
    "qa({\"query\": \"What is the probationary period?\"})"
   ]
  },
  {
   "cell_type": "code",
   "execution_count": null,
   "metadata": {},
   "outputs": [],
   "source": [
    "qa({\"query\": \"Is the work hours in Germany different than United States?\"})"
   ]
  },
  {
   "cell_type": "code",
   "execution_count": null,
   "metadata": {},
   "outputs": [],
   "source": [
    "qa({\"query\": \"What is the probationary period for new employees in USA?\"})"
   ]
  },
  {
   "cell_type": "code",
   "execution_count": null,
   "metadata": {},
   "outputs": [],
   "source": [
    "qa(\n",
    "    {\n",
    "        \"query\": \"What is the difference in the number of work hours in Germany vs. United States?\"\n",
    "    }\n",
    ")"
   ]
  },
  {
   "cell_type": "code",
   "execution_count": null,
   "metadata": {},
   "outputs": [],
   "source": [
    "qa({\"query\": \"Can I reimburse travel expenses?\"})"
   ]
  },
  {
   "cell_type": "code",
   "execution_count": null,
   "metadata": {},
   "outputs": [],
   "source": [
    "qa(\n",
    "    {\n",
    "        \"query\": \"I started with the company on 1 December 2023.\\\n",
    "    Is my probationary period over if the date today is 26 Jan 2024?\"\n",
    "    }\n",
    ")"
   ]
  },
  {
   "cell_type": "markdown",
   "metadata": {},
   "source": [
    "#### incorrect responses"
   ]
  },
  {
   "cell_type": "code",
   "execution_count": null,
   "metadata": {},
   "outputs": [],
   "source": [
    "# incorrect as the conversion used is wrong. We need to fix this!\n",
    "qa(\n",
    "    {\n",
    "        \"query\": \"What is the percentage difference in the annual budget for Japan and US?\"\n",
    "    }\n",
    ")"
   ]
  },
  {
   "cell_type": "code",
   "execution_count": null,
   "metadata": {},
   "outputs": [],
   "source": [
    "# Results are still slightly off\n",
    "qa(\n",
    "    {\n",
    "        \"query\": \"What is the percentage difference in the annual budget for Japan and US if 1 USD = 147.72 JPY?\"\n",
    "    }\n",
    ")"
   ]
  },
  {
   "cell_type": "code",
   "execution_count": null,
   "metadata": {},
   "outputs": [],
   "source": [
    "# incorrect as technically US has higher budget after conversion\n",
    "qa({\"query\": \"Which country has the highest budget?\"})"
   ]
  },
  {
   "cell_type": "markdown",
   "metadata": {},
   "source": [
    "### Setting up ReAct Agent"
   ]
  },
  {
   "cell_type": "markdown",
   "metadata": {},
   "source": [
    "#### Common Tools"
   ]
  },
  {
   "cell_type": "code",
   "execution_count": 14,
   "metadata": {},
   "outputs": [],
   "source": [
    "# convert PDR retriever into a tool\n",
    "tool_search = create_retriever_tool(\n",
    "    retriever,\n",
    "    \"search_hr_policy\",\n",
    "    \"Searches and returns excerpts from the HR policy.\",\n",
    ")"
   ]
  },
  {
   "cell_type": "code",
   "execution_count": null,
   "metadata": {},
   "outputs": [],
   "source": [
    "# under the hood it will call the get_relevant_documents() function and return the list of parent chunks\n",
    "tool_search.func"
   ]
  },
  {
   "cell_type": "code",
   "execution_count": null,
   "metadata": {},
   "outputs": [],
   "source": [
    "# useful to check the schema to verify the expected parameters for the function\n",
    "tool_search.args_schema.schema()"
   ]
  },
  {
   "cell_type": "code",
   "execution_count": 15,
   "metadata": {},
   "outputs": [],
   "source": [
    "def value_to_float(x):\n",
    "    if int(x):\n",
    "        return int(x)\n",
    "    if type(x) == float or type(x) == int:\n",
    "        return x\n",
    "    x = x.upper()\n",
    "    if \"MILLION\" in x:\n",
    "        if len(x) > 1:\n",
    "            return float(x.replace(\"MILLION\", \"\")) * 1000000\n",
    "        return 1000000.0\n",
    "    if \"BILLION\" in x:\n",
    "        return float(x.replace(\"BILLION\", \"\")) * 1000000000\n",
    "\n",
    "    return 0.0\n",
    "\n",
    "\n",
    "def convert_currency_to_usd(amount: str) -> int:\n",
    "    \"Converts currency into USD\"\n",
    "\n",
    "    if \"¥\" in amount:\n",
    "        exclude_symbol = amount.replace(\"¥\", \"\")\n",
    "        amount_in_numbers = value_to_float(exclude_symbol)\n",
    "        return amount_in_numbers / 147.72\n",
    "    if \"$\" in amount:\n",
    "        exclude_symbol = amount.replace(\"$\", \"\")\n",
    "        return value_to_float(exclude_symbol)\n",
    "    if \"JPY\" in amount:\n",
    "        exclude_symbol = amount.replace(\"JPY\", \"\")\n",
    "        return int(exclude_symbol) / 147.72\n",
    "    if \"USD\" in amount:\n",
    "        return amount\n",
    "\n",
    "\n",
    "# It is okay to define single-input tools in this manner.\n",
    "currency_conversion = Tool(\n",
    "    name=\"Currency_conversion\",\n",
    "    func=convert_currency_to_usd,\n",
    "    description=\"useful for converting currency into USD. Input should be an amount.\",\n",
    ")"
   ]
  },
  {
   "cell_type": "code",
   "execution_count": 16,
   "metadata": {},
   "outputs": [],
   "source": [
    "# for multi-input tool, useful to define schema class\n",
    "class Metrics(BaseModel):\n",
    "    num1: float = Field(description=\"Value 1\")\n",
    "    num2: float = Field(description=\"Value 2\")\n",
    "\n",
    "\n",
    "@tool(args_schema=Metrics)\n",
    "def perc_diff(num1: float, num2: float) -> float:\n",
    "    \"\"\"Calculates the percentage difference between two numbers\"\"\"\n",
    "    return (np.abs(num1 - num2) / ((num1 + num2) / 2)) * 100"
   ]
  },
  {
   "cell_type": "markdown",
   "metadata": {},
   "source": [
    "#### Common Agent prompts"
   ]
  },
  {
   "cell_type": "code",
   "execution_count": null,
   "metadata": {},
   "outputs": [],
   "source": [
    "prompt_react = hub.pull(\"hwchase17/react\")\n",
    "print(prompt_react.template)"
   ]
  },
  {
   "cell_type": "markdown",
   "metadata": {},
   "source": [
    "#### Running the ReAct agent"
   ]
  },
  {
   "cell_type": "code",
   "execution_count": 18,
   "metadata": {},
   "outputs": [],
   "source": [
    "# List of tools to be used\n",
    "tools = [tool_search]"
   ]
  },
  {
   "cell_type": "code",
   "execution_count": 19,
   "metadata": {},
   "outputs": [],
   "source": [
    "# only creates the logical steps for us\n",
    "react_agent = create_react_agent(llm, tools=tools, prompt=prompt_react)"
   ]
  },
  {
   "cell_type": "code",
   "execution_count": 20,
   "metadata": {},
   "outputs": [],
   "source": [
    "# executes the logical steps we created\n",
    "react_agent_executor = AgentExecutor(\n",
    "    agent=react_agent, tools=tools, verbose=True, handle_parsing_errors=True\n",
    ")"
   ]
  },
  {
   "cell_type": "code",
   "execution_count": null,
   "metadata": {},
   "outputs": [],
   "source": [
    "query = \"As per the HR policy, Which country has the highest budget?\"\n",
    "react_agent_executor.invoke({\"input\": query})"
   ]
  },
  {
   "cell_type": "code",
   "execution_count": null,
   "metadata": {},
   "outputs": [],
   "source": [
    "query = \"Which of the two countries has the highest budget - Japan or Unites States?\"\n",
    "react_agent_executor.invoke({\"input\": query})"
   ]
  },
  {
   "cell_type": "code",
   "execution_count": null,
   "metadata": {},
   "outputs": [],
   "source": [
    "query = \"How much is the budget for Japan different than United States?\"\n",
    "react_agent_executor.invoke({\"input\": query})"
   ]
  },
  {
   "cell_type": "code",
   "execution_count": null,
   "metadata": {},
   "outputs": [],
   "source": [
    "tools = [tool_search, currency_conversion]\n",
    "\n",
    "react_agent = create_react_agent(llm, tools=tools, prompt=prompt_react)\n",
    "react_agent_executor = AgentExecutor(\n",
    "    agent=react_agent, tools=tools, verbose=True, handle_parsing_errors=True\n",
    ")\n",
    "\n",
    "query = \"Is the budget for Japan different than United States?\"\n",
    "react_agent_executor.invoke({\"input\": query})"
   ]
  },
  {
   "cell_type": "code",
   "execution_count": null,
   "metadata": {},
   "outputs": [],
   "source": [
    "# Gives close enough response but can be improved with a calculator\n",
    "query = \"Calculate the difference in company budget for Japan and United States?\"\n",
    "react_agent_executor.invoke({\"input\": query})"
   ]
  },
  {
   "cell_type": "code",
   "execution_count": null,
   "metadata": {},
   "outputs": [],
   "source": [
    "# This will result in an error as ReAct agents cannot handle multi input tools like percentage_calculator\n",
    "tools = [tool_search, currency_conversion, percentage_calculator]\n",
    "\n",
    "react_agent = create_react_agent(llm, tools=tools, prompt=prompt_react)\n",
    "react_agent_executor = AgentExecutor(\n",
    "    agent=react_agent, tools=tools, verbose=True, handle_parsing_errors=True\n",
    ")\n",
    "\n",
    "react_agent = create_react_agent(llm, tools, prompt_react)"
   ]
  },
  {
   "cell_type": "markdown",
   "metadata": {},
   "source": [
    "#### Running the OpenAI Tools Agent"
   ]
  },
  {
   "cell_type": "markdown",
   "metadata": {},
   "source": [
    "P.S. This point onwards, I switched to gpt4 for better results"
   ]
  },
  {
   "cell_type": "code",
   "execution_count": null,
   "metadata": {},
   "outputs": [],
   "source": [
    "# defining prompt\n",
    "\n",
    "system_message = \"\"\"\n",
    "You are very helpful and try your best to answer the questions.\n",
    "\"\"\"\n",
    "\n",
    "prompt_oai_tools_simple = ChatPromptTemplate.from_messages(\n",
    "    [\n",
    "        (\"system\", system_message),\n",
    "        (\"user\", \"{input}\"),\n",
    "        MessagesPlaceholder(variable_name=\"agent_scratchpad\"),\n",
    "    ]\n",
    ")"
   ]
  },
  {
   "cell_type": "code",
   "execution_count": null,
   "metadata": {},
   "outputs": [],
   "source": [
    "tools = [tool_search, currency_conversion, perc_diff]\n",
    "prompt_oai_tools = hub.pull(\"hwchase17/openai-tools-agent\")\n",
    "oaitools_agent = create_openai_tools_agent(llm, tools, prompt_oai_tools)\n",
    "oaitools_agent_executor = AgentExecutor(\n",
    "    agent=oaitools_agent, tools=tools, verbose=True, handle_parsing_errors=True\n",
    ")\n",
    "\n",
    "query = \"As per the HR policy, compare the budgets for Japan and US.\"\n",
    "oaitools_agent_executor.invoke({\"input\": query})"
   ]
  },
  {
   "cell_type": "markdown",
   "metadata": {},
   "source": [
    "If results are not satisfactory, try modifying and using `prompt_oai_tools_simple`"
   ]
  },
  {
   "cell_type": "markdown",
   "metadata": {},
   "source": [
    "\n"
   ]
  },
  {
   "cell_type": "markdown",
   "metadata": {},
   "source": []
  }
 ],
 "metadata": {
  "kernelspec": {
   "display_name": "onbrand_env",
   "language": "python",
   "name": "python3"
  },
  "language_info": {
   "codemirror_mode": {
    "name": "ipython",
    "version": 3
   },
   "file_extension": ".py",
   "mimetype": "text/x-python",
   "name": "python",
   "nbconvert_exporter": "python",
   "pygments_lexer": "ipython3",
   "version": "3.9.6"
  }
 },
 "nbformat": 4,
 "nbformat_minor": 2
}
